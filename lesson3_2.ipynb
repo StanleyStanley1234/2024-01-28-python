{
 "cells": [
  {
   "cell_type": "code",
   "execution_count": 4,
   "metadata": {},
   "outputs": [
    {
     "name": "stdout",
     "output_type": "stream",
     "text": [
      "your height:170cm\n",
      "your weight:60kg\n",
      "your BMI:20.76\n"
     ]
    }
   ],
   "source": [
    "#The formula of BMI: BMI= weight/height**\n",
    "\n",
    "height=eval(input('please type in your height'))\n",
    "weight=eval(input(\"please type in your weight\"))\n",
    "bmi=weight/(height/100)**2\n",
    "print(\"your height:\",height,'cm',sep='')\n",
    "print(\"your weight:\",weight,'kg',sep='')\n",
    "print('your BMI:',round(bmi,ndigits=2),sep='')"
   ]
  },
  {
   "cell_type": "code",
   "execution_count": 7,
   "metadata": {},
   "outputs": [
    {
     "name": "stdout",
     "output_type": "stream",
     "text": [
      "your height:170cm\n",
      "your weight:60kg\n",
      "your BMI:20.76\n"
     ]
    }
   ],
   "source": [
    "#The formula of BMI: BMI= weight/height**\n",
    "\n",
    "height=eval(input('please type in your height'))\n",
    "weight=eval(input(\"please type in your weight\"))\n",
    "bmi=weight/(height/100)**2\n",
    "#利用字串插補 #就是f在前面,中間用{}加入你要插捕的字串\n",
    "\n",
    "print(f'your height:{height}cm')\n",
    "print(f'your weight:{weight}kg')\n",
    "print(f'your BMI:{round(bmi,ndigits=2)}')"
   ]
  },
  {
   "cell_type": "code",
   "execution_count": 8,
   "metadata": {},
   "outputs": [
    {
     "name": "stdout",
     "output_type": "stream",
     "text": [
      "your height:170cm\n",
      "your weight:60kg\n",
      "your BMI:20.76\n"
     ]
    }
   ],
   "source": [
    "#The formula of BMI: BMI= weight/height**\n",
    "\n",
    "height=eval(input('please type in your height'))\n",
    "weight=eval(input(\"please type in your weight\"))\n",
    "bmi=weight/(height/100)**2\n",
    "#利用字串插補 #就是f在前面,中間用{}加入你要插捕的字串\n",
    "\n",
    "print(f'your height:{height}cm')\n",
    "print(f'your weight:{weight}kg')\n",
    "print(f'your BMI:{bmi:.2f}')\n",
    "\n",
    "#也可以打更快,用:.2f,就是捨到兩位,.3就是捨到三位"
   ]
  }
 ],
 "metadata": {
  "kernelspec": {
   "display_name": "Python 3",
   "language": "python",
   "name": "python3"
  },
  "language_info": {
   "codemirror_mode": {
    "name": "ipython",
    "version": 3
   },
   "file_extension": ".py",
   "mimetype": "text/x-python",
   "name": "python",
   "nbconvert_exporter": "python",
   "pygments_lexer": "ipython3",
   "version": "3.10.13"
  }
 },
 "nbformat": 4,
 "nbformat_minor": 2
}
