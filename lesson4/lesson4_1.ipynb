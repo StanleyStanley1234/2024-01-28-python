{
 "cells": [
  {
   "cell_type": "code",
   "execution_count": 7,
   "metadata": {},
   "outputs": [
    {
     "name": "stdout",
     "output_type": "stream",
     "text": [
      "hypotenuse50cm bottom edge30\n",
      "degree36.87\n"
     ]
    }
   ],
   "source": [
    "import math\n",
    "side1=eval(input(\"please enter the hypotenuse(cm)\"))\n",
    "side2=eval(input(\"please enter the bottom edge(cm)\"))\n",
    "radian=math.asin(side2/side1)\n",
    "degree=math.degrees(radian)\n",
    "print(f\"hypotenuse{side1}cm\",f'bottom edge{side2}')\n",
    "print(f\"degree{degree:.2f}\")"
   ]
  },
  {
   "cell_type": "code",
   "execution_count": 10,
   "metadata": {},
   "outputs": [
    {
     "name": "stdout",
     "output_type": "stream",
     "text": [
      "The mean of these number is 24.125\n",
      "The median of these number is 8.0\n",
      "The std of these number is 35.61475416573466\n"
     ]
    }
   ],
   "source": [
    "import statistics\n",
    "\n",
    "meanvalue=statistics.mean([1,3,5,7,9,11,57,100])\n",
    "print(f\"The mean of these number is {meanvalue }\")\n",
    "medianvalue=statistics.median([1,3,5,7,9,11,57,100])\n",
    "print(f\"The median of these number is {medianvalue}\")\n",
    "stdvalue=statistics.stdev([1,3,5,7,9,11,57,100])\n",
    "print(f'The std of these number is {stdvalue}')"
   ]
  },
  {
   "cell_type": "code",
   "execution_count": 11,
   "metadata": {},
   "outputs": [
    {
     "data": {
      "text/plain": [
       "5"
      ]
     },
     "execution_count": 11,
     "metadata": {},
     "output_type": "execute_result"
    }
   ],
   "source": [
    "n=5\n",
    "n+5\n",
    "n"
   ]
  },
  {
   "cell_type": "code",
   "execution_count": 13,
   "metadata": {},
   "outputs": [
    {
     "data": {
      "text/plain": [
       "10"
      ]
     },
     "execution_count": 13,
     "metadata": {},
     "output_type": "execute_result"
    }
   ],
   "source": [
    "x=5\n",
    "x=x+5\n",
    "x"
   ]
  }
 ],
 "metadata": {
  "kernelspec": {
   "display_name": "Python 3",
   "language": "python",
   "name": "python3"
  },
  "language_info": {
   "codemirror_mode": {
    "name": "ipython",
    "version": 3
   },
   "file_extension": ".py",
   "mimetype": "text/x-python",
   "name": "python",
   "nbconvert_exporter": "python",
   "pygments_lexer": "ipython3",
   "version": "3.11.4"
  }
 },
 "nbformat": 4,
 "nbformat_minor": 2
}
