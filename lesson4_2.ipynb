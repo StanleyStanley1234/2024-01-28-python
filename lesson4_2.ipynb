{
 "cells": [
  {
   "cell_type": "code",
   "execution_count": 2,
   "metadata": {},
   "outputs": [
    {
     "name": "stdout",
     "output_type": "stream",
     "text": [
      "The total number is 11\n"
     ]
    }
   ],
   "source": [
    "total=0\n",
    "value=eval(input('please enter the first number'))\n",
    "total+=value\n",
    "value2=eval(input('please enter the second number'))\n",
    "total+=value2\n",
    "value3=eval(input('please enter the third number'))\n",
    "total+=value3\n",
    "print(f\"The total number is {total}\")"
   ]
  }
 ],
 "metadata": {
  "kernelspec": {
   "display_name": "Python 3",
   "language": "python",
   "name": "python3"
  },
  "language_info": {
   "codemirror_mode": {
    "name": "ipython",
    "version": 3
   },
   "file_extension": ".py",
   "mimetype": "text/x-python",
   "name": "python",
   "nbconvert_exporter": "python",
   "pygments_lexer": "ipython3",
   "version": "3.11.4"
  }
 },
 "nbformat": 4,
 "nbformat_minor": 2
}
