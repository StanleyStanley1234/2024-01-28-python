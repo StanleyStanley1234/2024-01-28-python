{
 "cells": [
  {
   "cell_type": "code",
   "execution_count": 1,
   "metadata": {},
   "outputs": [
    {
     "data": {
      "text/plain": [
       "True"
      ]
     },
     "execution_count": 1,
     "metadata": {},
     "output_type": "execute_result"
    }
   ],
   "source": [
    "#比較(關係)運算子\n",
    "# <小於,<=小於等於,>大於,>=大於等於,==兩邊是否等於,!=兩邊是否不等於\n",
    "\n",
    "5>3"
   ]
  },
  {
   "cell_type": "code",
   "execution_count": 3,
   "metadata": {},
   "outputs": [
    {
     "data": {
      "text/plain": [
       "True"
      ]
     },
     "execution_count": 3,
     "metadata": {},
     "output_type": "execute_result"
    }
   ],
   "source": [
    "5==5\n"
   ]
  },
  {
   "cell_type": "code",
   "execution_count": 4,
   "metadata": {},
   "outputs": [
    {
     "data": {
      "text/plain": [
       "False"
      ]
     },
     "execution_count": 4,
     "metadata": {},
     "output_type": "execute_result"
    }
   ],
   "source": [
    "5!=5"
   ]
  },
  {
   "cell_type": "code",
   "execution_count": 6,
   "metadata": {},
   "outputs": [
    {
     "name": "stdout",
     "output_type": "stream",
     "text": [
      "The program start\n",
      "5>3\n",
      "5 really bigger than 3\n",
      "The program is over\n"
     ]
    }
   ],
   "source": [
    "print(\"The program start\")\n",
    "#單項選擇,True的程式區塊有可能執行,也有可能不執行\n",
    "if 5>3:\n",
    "   print(\"5>3\")\n",
    "   print(\"5 really bigger than 3\")\n",
    "print(\"The program is over\")"
   ]
  },
  {
   "cell_type": "code",
   "execution_count": 8,
   "metadata": {},
   "outputs": [
    {
     "name": "stdout",
     "output_type": "stream",
     "text": [
      "The program start\n",
      "5>3\n",
      "5 really bigger than 3\n",
      "The program is over\n"
     ]
    }
   ],
   "source": [
    "print(\"The program start\")\n",
    "#雙項選擇,2個程式區塊一定執行其中一個\n",
    "if 5>3:  #True的程式區塊\n",
    "   print(\"5>3\")\n",
    "   print(\"5 really bigger than 3\")\n",
    "else:#False的程式區塊\n",
    "   print(\"failure\")\n",
    "print(\"The program is over\")"
   ]
  },
  {
   "cell_type": "code",
   "execution_count": 11,
   "metadata": {},
   "outputs": [
    {
     "name": "stdout",
     "output_type": "stream",
     "text": [
      "the score of student is282.45\n"
     ]
    }
   ],
   "source": [
    "#學生總分為300\n",
    "#有些學生可以加分5%\n",
    "\n",
    "#type hint\n",
    "#資料型別的提醒\n",
    "\n",
    "score:int=int(input(\"please enter the score of student\"))\n",
    "add:str=str(input(\"whether the student meet the conditions for extra points(y or n)\"))\n",
    "if add==\"y\" :\n",
    "   score*=1.05\n",
    "\n",
    "print(f\"the score of student is {score}\")"
   ]
  },
  {
   "cell_type": "code",
   "execution_count": 14,
   "metadata": {},
   "outputs": [
    {
     "name": "stdout",
     "output_type": "stream",
     "text": [
      "the score of student is 300\n"
     ]
    }
   ],
   "source": [
    "#學生總分為300\n",
    "#有些學生可以加分5%\n",
    "\n",
    "#type hint\n",
    "#資料型別的提醒\n",
    "\n",
    "score:int=int(input(\"please enter the score of student\"))\n",
    "add:str=str(input(\"whether the student meet the conditions for extra points(y or n)\"))\n",
    "#多個條件,使用巢項判斷\n",
    "if add==\"y\" :\n",
    "   score*=1.05\n",
    "   if score>300 :\n",
    "      score=300\n",
    "\n",
    "print(f\"the score of student is {score}\")"
   ]
  }
 ],
 "metadata": {
  "kernelspec": {
   "display_name": "Python 3",
   "language": "python",
   "name": "python3"
  },
  "language_info": {
   "codemirror_mode": {
    "name": "ipython",
    "version": 3
   },
   "file_extension": ".py",
   "mimetype": "text/x-python",
   "name": "python",
   "nbconvert_exporter": "python",
   "pygments_lexer": "ipython3",
   "version": "3.11.4"
  }
 },
 "nbformat": 4,
 "nbformat_minor": 2
}
