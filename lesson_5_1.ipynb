{
 "cells": [
  {
   "cell_type": "code",
   "execution_count": 16,
   "metadata": {},
   "outputs": [
    {
     "name": "stdout",
     "output_type": "stream",
     "text": [
      "The format is wrong\n",
      "The program is over\n"
     ]
    }
   ],
   "source": [
    "try:\n",
    " scores=eval(input(\"Please enter the score\"))\n",
    " condition=input(\"Are the conditon met(y/n)\")\n",
    "except:\n",
    "    print(\"The format is wrong\")\n",
    "else:\n",
    "   if condition==\"y\":\n",
    "       scores*=1.05\n",
    "       if scores>300:\n",
    "          scores=300\n",
    "       print(f\"The scores of student {scores:.2f}\")\n",
    "   else :\n",
    "         print(f\"The scores of sudent {scores:.2f}\")\n",
    "print(\"The program is over\")"
   ]
  },
  {
   "cell_type": "code",
   "execution_count": null,
   "metadata": {},
   "outputs": [],
   "source": [
    "#學生總分為300\n",
    "#檢查學生總分格式是否錯誤\n",
    "#檢查學生分數是否>300分\n",
    "#有些學生可以加分5%\n",
    "#如果加分超過300分,就是300分\n",
    "\n",
    "#檢查格式是否有錯誤\n",
    "#try...except\n",
    "#try...except..else\n",
    "try:\n",
    "    scores:float = eval(input(\"請輸入學生分數(最高300分):\"))\n",
    "except:\n",
    "    print(\"輸入格式有錯誤\")\n",
    "else:\n",
    "    if scores <= 300:\n",
    "        is_add:str = input(\"學生是否符合加分條件?(y,n):\")\n",
    "        if is_add == \"y\":\n",
    "            scores *= 1.05\n",
    "            if scores > 300:\n",
    "                scores = 300\n",
    "\n",
    "        print(f\"學生分數為{scores:.0f}\")\n",
    "    else:\n",
    "        print(\"學生分數不可以大於300\")\n",
    "\n",
    "print(\"程式結束\")"
   ]
  },
  {
   "cell_type": "code",
   "execution_count": 18,
   "metadata": {},
   "outputs": [
    {
     "name": "stdout",
     "output_type": "stream",
     "text": [
      "The format is wrong\n",
      "The program is over\n"
     ]
    }
   ],
   "source": [
    "# The part of the except would implement when the part of try can not implement\n",
    "# The program would be inplement the part of try when the program is right.\n",
    "try:\n",
    " scores=eval(input(\"Please enter the score\"))\n",
    " condition=input(\"Are the conditon met(y/n)\")\n",
    " if condition==\"y\":\n",
    "       scores*=1.05\n",
    "       if scores>300:\n",
    "          scores=300\n",
    "       print(f\"The scores of student {scores:.2f}\")\n",
    " else :\n",
    "         print(f\"The scores of sudent {scores:.2f}\")\n",
    "except:\n",
    "    print(\"The format is wrong\")\n",
    "  \n",
    "print(\"The program is over\")"
   ]
  },
  {
   "cell_type": "markdown",
   "metadata": {},
   "source": []
  }
 ],
 "metadata": {
  "kernelspec": {
   "display_name": "Python 3",
   "language": "python",
   "name": "python3"
  },
  "language_info": {
   "codemirror_mode": {
    "name": "ipython",
    "version": 3
   },
   "file_extension": ".py",
   "mimetype": "text/x-python",
   "name": "python",
   "nbconvert_exporter": "python",
   "pygments_lexer": "ipython3",
   "version": "3.10.13"
  }
 },
 "nbformat": 4,
 "nbformat_minor": 2
}
